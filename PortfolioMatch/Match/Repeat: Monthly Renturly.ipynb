{
 "cells": [
  {
   "cell_type": "code",
   "execution_count": 6,
   "metadata": {},
   "outputs": [
    {
     "name": "stdout",
     "output_type": "stream",
     "text": [
      "[['2021-07-29' 'A. Dogging - Total' 12]\n",
      " ['2021-07-29' 'B. Fistfuls of Cash*' 2]\n",
      " ['2021-07-29' 'C. Dogging Fistfuls' 5]\n",
      " ['2021-07-29' 'D. Bird Dog*' 3]\n",
      " ['2021-07-29' 'E. Bird Dogging Urly Birds' 5]\n",
      " ['2021-07-30' 'A. Dogging - Total' 3]\n",
      " ['2021-07-30' 'B. Fistfuls of Cash*' 2]\n",
      " ['2021-07-30' 'C. Dogging Fistfuls' 5]\n",
      " ['2021-07-30' 'D. Bird Dog*' 3]\n",
      " ['2021-07-30' 'E. Bird Dogging Urly Birds' 5]\n",
      " ['2021-07-31' 'A. Dogging - Total' 7]\n",
      " ['2021-07-31' 'B. Fistfuls of Cash*' 2]\n",
      " ['2021-07-31' 'C. Dogging Fistfuls' 5]\n",
      " ['2021-07-31' 'D. Bird Dog*' 3]\n",
      " ['2021-07-31' 'E. Bird Dogging Urly Birds' 5]\n",
      " ['2021-08-01' 'A. Dogging - Total' 1]\n",
      " ['2021-08-01' 'B. Fistfuls of Cash*' 2]\n",
      " ['2021-08-01' 'C. Dogging Fistfuls' 5]\n",
      " ['2021-08-01' 'D. Bird Dog*' 3]\n",
      " ['2021-08-01' 'E. Bird Dogging Urly Birds' 5]\n",
      " ['2021-08-02' 'A. Dogging - Total' 37]\n",
      " ['2021-08-02' 'B. Fistfuls of Cash*' 2]\n",
      " ['2021-08-02' 'C. Dogging Fistfuls' 5]\n",
      " ['2021-08-02' 'D. Bird Dog*' 3]\n",
      " ['2021-08-02' 'E. Bird Dogging Urly Birds' 5]\n",
      " ['2021-08-03' 'A. Dogging - Total' 87]\n",
      " ['2021-08-03' 'B. Fistfuls of Cash*' 2]\n",
      " ['2021-08-03' 'C. Dogging Fistfuls' 5]\n",
      " ['2021-08-03' 'D. Bird Dog*' 3]\n",
      " ['2021-08-03' 'E. Bird Dogging Urly Birds' 5]\n",
      " ['2021-08-04' 'A. Dogging - Total' 25]\n",
      " ['2021-08-04' 'B. Fistfuls of Cash*' 2]\n",
      " ['2021-08-04' 'C. Dogging Fistfuls' 5]\n",
      " ['2021-08-04' 'D. Bird Dog*' 3]\n",
      " ['2021-08-04' 'E. Bird Dogging Urly Birds' 5]\n",
      " ['2021-08-05' 'A. Dogging - Total' 17]\n",
      " ['2021-08-05' 'B. Fistfuls of Cash*' 2]\n",
      " ['2021-08-05' 'C. Dogging Fistfuls' 5]\n",
      " ['2021-08-05' 'D. Bird Dog*' 3]\n",
      " ['2021-08-05' 'E. Bird Dogging Urly Birds' 5]]\n",
      "[12, 3, 7, 1, 37, 87, 25, 17]\n",
      "F_onewayResult(statistic=4.684876674344238, pvalue=0.04820017147678233)\n"
     ]
    }
   ],
   "source": [
    "#Repeat\n",
    "from scipy.stats import f_oneway\n",
    "#reject null when p-value < 0.05: High F-Statistic\n",
    "import numpy as np\n",
    "import pandas as pd\n",
    "\n",
    "df = pd.read_csv(\"Pee.csv\")\n",
    "\n",
    "#convert dataframe to numpy array\n",
    "flock = df.to_numpy()\n",
    "\n",
    "\n",
    "print(flock)\n",
    "group1 = []\n",
    "group2 = []\n",
    "group3 = []\n",
    "for Cohort in flock:\n",
    "    if Cohort[1] == \"A. Dogging - Total\":\n",
    "        group1.append(Cohort[2])\n",
    "    if Cohort[1] == \"B. Fistfuls of Cash*\":\n",
    "        group2.append(Cohort[2])\n",
    "    #if Cohort[1] == \"It Multiplies \":\n",
    "       # group3.append(Cohort[2])\n",
    "print(group1)       \n",
    "\n",
    "#Dogging $8.33 \n",
    "p = f_oneway(group2, group1)\n",
    "#less than 0.05 explains the change in the next array\n",
    "print(p)\n",
    "#GrowthHack: Pay The Bird Dog double downs Birds of a Feather, Bring Me Renturly and The Urly Bird\n",
    "#Dogging Fistfuls Impacts Bird Dogging\n",
    "#Event: Give them a birddogging Blog beneath Fistfuls of Cash\n",
    "#Mixpanel: Fistfuls of Cash Impact Bird Dogging\n",
    "#Dogging Fistfuls: Fistfuls of Cash is the Bird Dog"
   ]
  }
 ],
 "metadata": {
  "kernelspec": {
   "display_name": "Python 3",
   "language": "python",
   "name": "python3"
  },
  "language_info": {
   "codemirror_mode": {
    "name": "ipython",
    "version": 3
   },
   "file_extension": ".py",
   "mimetype": "text/x-python",
   "name": "python",
   "nbconvert_exporter": "python",
   "pygments_lexer": "ipython3",
   "version": "3.6.6+"
  }
 },
 "nbformat": 4,
 "nbformat_minor": 2
}
