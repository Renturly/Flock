{
 "cells": [
  {
   "cell_type": "code",
   "execution_count": 5,
   "metadata": {},
   "outputs": [
    {
     "name": "stdout",
     "output_type": "stream",
     "text": [
      "F_onewayResult(statistic=0.6947737561276541, pvalue=0.5217562341267064)\n",
      "642\n",
      "482.67600000000004\n"
     ]
    }
   ],
   "source": [
    "from scipy.stats import f_oneway\n",
    "\n",
    "#I'm Ordering Weekly: I should be fine\n",
    "october=[]\n",
    "week_1=58.94*1.10\n",
    "october.append(week_1)\n",
    "week_2=58.94*1.10\n",
    "october.append(week_2)\n",
    "sum_october=week_1+week_2\n",
    "week_3=223.34\n",
    "october.append(week_3)\n",
    "sum_october=week_1+week_2\n",
    "week_4=58.94*2*1.10\n",
    "october.append(week_4)\n",
    "sum_october=week_1+week_2+week_3+week_4\n",
    "\n",
    "september=[]\n",
    "week_1=127+55\n",
    "september.append(week_1)\n",
    "week_2=136+55\n",
    "september.append(week_2)\n",
    "freezer_space=69\n",
    "september.append(freezer_space)\n",
    "week_3=96+61\n",
    "september.append(week_3)\n",
    "week_4=108+75\n",
    "september.append(week_4)\n",
    "sum_october=week_1+week_2+week_3+week_4\n",
    "\n",
    "august=[]\n",
    "week_1=121+67\n",
    "august.append(week_1)\n",
    "week_2=102+57\n",
    "august.append(week_2)\n",
    "week_3=82+55\n",
    "august.append(week_3)\n",
    "week_4=118+40\n",
    "august.append(week_4)\n",
    "sum_august=week_1+week_2+week_3+week_4\n",
    "\n",
    "p = f_oneway(august, september, october)\n",
    "\n",
    "print(p)\n",
    "\n",
    "print(sum_august)\n",
    "#Milk and Free Beer Next Week\n",
    "print(sum(october))"
   ]
  },
  {
   "cell_type": "code",
   "execution_count": null,
   "metadata": {},
   "outputs": [],
   "source": [
    "\n"
   ]
  }
 ],
 "metadata": {
  "kernelspec": {
   "display_name": "Python 3",
   "language": "python",
   "name": "python3"
  },
  "language_info": {
   "codemirror_mode": {
    "name": "ipython",
    "version": 3
   },
   "file_extension": ".py",
   "mimetype": "text/x-python",
   "name": "python",
   "nbconvert_exporter": "python",
   "pygments_lexer": "ipython3",
   "version": "3.6.6+"
  }
 },
 "nbformat": 4,
 "nbformat_minor": 2
}
