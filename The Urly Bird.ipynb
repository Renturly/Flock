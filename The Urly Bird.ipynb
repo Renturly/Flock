{
 "cells": [
  {
   "cell_type": "code",
   "execution_count": 1,
   "metadata": {},
   "outputs": [
    {
     "name": "stdout",
     "output_type": "stream",
     "text": [
      "F_onewayResult(statistic=18.282007631417937, pvalue=0.0002831928746107076)\n"
     ]
    }
   ],
   "source": [
    "from scipy.stats import f_oneway\n",
    "\n",
    "\n",
    "#Bird Dogging's The Bird Dog\n",
    "the_urly_bird = [0.045, 0.13, 0, 0, 0.27, 0.056, 0.41, 0, 0.014, 0.022, 0.12, 0]\n",
    "bird_dogging_motivated_sellers = [1, 0, 5, 1, 3, 4, 1, 4, 3, 8, 7, 1, 8]\n",
    "\n",
    "p = f_oneway(the_urly_bird, bird_dogging_motivated_sellers)\n",
    "\n",
    "print(p)"
   ]
  }
 ],
 "metadata": {
  "kernelspec": {
   "display_name": "Python 3",
   "language": "python",
   "name": "python3"
  },
  "language_info": {
   "codemirror_mode": {
    "name": "ipython",
    "version": 3
   },
   "file_extension": ".py",
   "mimetype": "text/x-python",
   "name": "python",
   "nbconvert_exporter": "python",
   "pygments_lexer": "ipython3",
   "version": "3.6.6+"
  }
 },
 "nbformat": 4,
 "nbformat_minor": 2
}
