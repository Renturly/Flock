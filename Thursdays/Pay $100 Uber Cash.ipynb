{
 "cells": [
  {
   "cell_type": "code",
   "execution_count": 14,
   "metadata": {},
   "outputs": [
    {
     "name": "stdout",
     "output_type": "stream",
     "text": [
      "[[  65.60330579 -103.09090909]\n",
      " [-103.09090909  162.        ]]\n"
     ]
    }
   ],
   "source": [
    "import pandas as pd\n",
    "\n",
    "# Create a list of dictionaries with new data\n",
    "avocados_list = [\n",
    "    {\"date\": \"2019-11-03\", \"small_sold\": 10376832, \"large_sold\": 7835071},\n",
    "    {\"date\": \"2019-11-10\", \"small_sold\": 10717154, \"large_sold\": 8561348},\n",
    "    {\"MRR is Flock Gold Chain\":\"142.41015+-6.78859x\"}\n",
    "]\n",
    "\n",
    "# Convert list into DataFrame\n",
    "avocados_2019 = pd.DataFrame(avocados_list)\n",
    "\n",
    "# Print the new DataFrame\n",
    "#print(avocados_2019)\n",
    "\n",
    "#Uber & Uber Eats\n",
    "import numpy as np\n",
    "#$162 for Food\n",
    "covariance = np.array(np.cov([69, 76],[28, 17]))\n",
    "#$65 Uber Cash\n",
    "variance = np.array([28, 17])\n",
    "\n",
    "#covariance/variance is Beta is Flock\n",
    "#print(np.cov(covariance))\n",
    "#print(np.var(variance))\n",
    "print(np.cov(covariance)/np.var(variance))"
   ]
  },
  {
   "cell_type": "code",
   "execution_count": null,
   "metadata": {},
   "outputs": [],
   "source": [
    "\n"
   ]
  }
 ],
 "metadata": {
  "kernelspec": {
   "display_name": "Python 3",
   "language": "python",
   "name": "python3"
  },
  "language_info": {
   "codemirror_mode": {
    "name": "ipython",
    "version": 3
   },
   "file_extension": ".py",
   "mimetype": "text/x-python",
   "name": "python",
   "nbconvert_exporter": "python",
   "pygments_lexer": "ipython3",
   "version": "3.6.6+"
  }
 },
 "nbformat": 4,
 "nbformat_minor": 2
}
