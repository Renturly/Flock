{
 "cells": [
  {
   "cell_type": "markdown",
   "metadata": {},
   "source": [
    "<h1>Full-Stack Development</h1>"
   ]
  },
  {
   "cell_type": "code",
   "execution_count": null,
   "metadata": {},
   "outputs": [],
   "source": [
    "<script>\n",
    "\n",
    "//getElementById.onclick = goldenEgg()\n",
    "\n",
    "  const goldenEgg = async () => {\n",
    "\tconst buyer = await fetch(\"https://www.accesstheflock.io/matchTable/DoggingFistfuls\");\n",
    "    \n",
    "\tconst buyerJSON = await buyer.json();\n",
    "\t\n",
    "\tconsole.log(buyerJSON.fistfuls);\n",
    "\t\n",
    "\tlet pof_amount = buyerJSON.fistfuls;\n",
    "      \n",
    "//Update HTML Element: CSS is Flock\n",
    "\tdocument.getElementById('pof_amount').innerHTML = pof_amount;\n",
    "\t\n",
    "\n",
    "}\n",
    "\n",
    "\tgoldenEgg();"
   ]
  },
  {
   "cell_type": "markdown",
   "metadata": {},
   "source": [
    "<script>\n",
    "\n",
    "const goldenEgg = async () => {\n",
    "\tconst buyer = await fetch(\"https://www.accesstheflock.io/matchTable/DoggingFistfuls\");\n",
    "    \n",
    "\tconst buyerJSON = await buyer.json();\n",
    "\t\n",
    "\tconsole.log(buyerJSON.fistfuls);\n",
    "\t\n",
    "\tlet pof_amount = buyerJSON.fistfuls;\n",
    "\tdocument.getElementById('pof_amount').innerHTML = pof_amount;\n",
    "\t\n",
    "\n",
    "}"
   ]
  }
 ],
 "metadata": {
  "kernelspec": {
   "display_name": "Python 3",
   "language": "python",
   "name": "python3"
  },
  "language_info": {
   "codemirror_mode": {
    "name": "ipython",
    "version": 3
   },
   "file_extension": ".py",
   "mimetype": "text/x-python",
   "name": "python",
   "nbconvert_exporter": "python",
   "pygments_lexer": "ipython3",
   "version": "3.6.6+"
  }
 },
 "nbformat": 4,
 "nbformat_minor": 2
}
